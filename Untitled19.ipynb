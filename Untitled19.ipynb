{
 "cells": [
  {
   "cell_type": "markdown",
   "metadata": {},
   "source": [
    "1. The probability of each coin flip is 50%, or P(H)=1/2 and P(T)=1/2, regardless of the order of the result from each flip: 0.5 ** 4 = 0.0625 or 6.25%"
   ]
  },
  {
   "cell_type": "markdown",
   "metadata": {},
   "source": [
    "2. The probability of not choosing a man is 24/45."
   ]
  },
  {
   "cell_type": "markdown",
   "metadata": {},
   "source": [
    "3. 0.10 * 0.00005 = 0.000005 or 0.0005%"
   ]
  },
  {
   "cell_type": "markdown",
   "metadata": {},
   "source": [
    "4. In regards to selection bias, many users dislike filling out surveys regardless of how short and it is possible that the users that choose to complete the survey are a bad representation of the average users surfing the company website. The conclusion would be much more precise if they increased the opportunity to complete the survey to increase the sample size of the average users and include an incentive for completing the survey to attract more of the average users."
   ]
  }
 ],
 "metadata": {
  "kernelspec": {
   "display_name": "Python 3",
   "language": "python",
   "name": "python3"
  },
  "language_info": {
   "codemirror_mode": {
    "name": "ipython",
    "version": 3
   },
   "file_extension": ".py",
   "mimetype": "text/x-python",
   "name": "python",
   "nbconvert_exporter": "python",
   "pygments_lexer": "ipython3",
   "version": "3.6.5"
  }
 },
 "nbformat": 4,
 "nbformat_minor": 2
}
